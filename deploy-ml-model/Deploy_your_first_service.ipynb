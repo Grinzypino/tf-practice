{
  "cells": [
    {
      "cell_type": "markdown",
      "metadata": {
        "id": "Xzlg8QpTohp5"
      },
      "source": [
        "# Service deployment using TrueFoundry\n"
      ]
    },
    {
      "cell_type": "markdown",
      "metadata": {
        "id": "gRhpN7is8PhA"
      },
      "source": [
        "##### This notebook demonstrates a demo of how you can deploy your first service with TrueFoundry.\n",
        "\n",
        "---\n"
      ]
    },
    {
      "cell_type": "markdown",
      "metadata": {
        "id": "ZUqbnAknyr57"
      },
      "source": [
        "After you complete the guide, you will have a successfully deployed model. Your deployed API will look like this:\n",
        "\n",
        "![](https://files.readme.io/e1affc0-Screenshot_2022-11-11_at_5.07.48_PM.png)\n"
      ]
    },
    {
      "cell_type": "markdown",
      "metadata": {
        "id": "gkJQLuPP0Vta"
      },
      "source": [
        "## Project structure\n",
        "\n",
        "To complete this guide, you are going to review the following **files**:\n",
        "\n",
        "- `app.py` : contains our inference and FastAPI code\n",
        "- `iris_classifier.joblib` : the model file\n",
        "- `deploy.py`: contains our deployment code\n",
        "- `requirements.txt` : contains our dependencies\n",
        "\n",
        "Your **final file structure** is going to look like this:\n",
        "\n",
        "```\n",
        ".\n",
        "├── app.py\n",
        "├── iris_classifier.joblib\n",
        "├── deploy.py\n",
        "└── requirements.txt\n",
        "```\n",
        "\n",
        "As you can see, all the following files are created in the same folder/directory"
      ]
    },
    {
      "cell_type": "markdown",
      "metadata": {
        "id": "tfEqLC9b0cMY"
      },
      "source": [
        "# Setup\n",
        "\n",
        "Let's first setup all the things we need to deploy our service.\n",
        "\n",
        "- Signup or Login on TrueFoundry\n",
        "- Setup Workspace\n"
      ]
    },
    {
      "cell_type": "markdown",
      "metadata": {
        "id": "B4d_6OnQ2R6e"
      },
      "source": [
        "Let's start with installing truefoundry.\n"
      ]
    },
    {
      "cell_type": "code",
      "execution_count": 1,
      "metadata": {
        "colab": {
          "base_uri": "https://localhost:8080/"
        },
        "id": "Y8lgCr9Pwzuw",
        "outputId": "4a8ae3eb-1252-4573-ab7d-72377c8340c8"
      },
      "outputs": [
        {
          "output_type": "stream",
          "name": "stdout",
          "text": [
            "Collecting truefoundry<0.6.0,>=0.5.9\n",
            "  Downloading truefoundry-0.5.10-py3-none-any.whl.metadata (2.3 kB)\n",
            "Collecting aenum<4.0.0,>=3.0.0 (from truefoundry<0.6.0,>=0.5.9)\n",
            "  Downloading aenum-3.1.15-py3-none-any.whl.metadata (3.7 kB)\n",
            "Requirement already satisfied: click<9.0.0,>=7.0.0 in /usr/local/lib/python3.11/dist-packages (from truefoundry<0.6.0,>=0.5.9) (8.1.8)\n",
            "Collecting coolname<2.0.0,>=1.1.0 (from truefoundry<0.6.0,>=0.5.9)\n",
            "  Downloading coolname-1.1.0-py2.py3-none-any.whl.metadata (5.7 kB)\n",
            "Collecting docker<8.0.0,>=6.1.2 (from truefoundry<0.6.0,>=0.5.9)\n",
            "  Downloading docker-7.1.0-py3-none-any.whl.metadata (3.8 kB)\n",
            "Requirement already satisfied: filelock<4.0.0,>=3.8.0 in /usr/local/lib/python3.11/dist-packages (from truefoundry<0.6.0,>=0.5.9) (3.17.0)\n",
            "Collecting gitignorefile<2.0.0,>=1.1.2 (from truefoundry<0.6.0,>=0.5.9)\n",
            "  Downloading gitignorefile-1.1.2.tar.gz (12 kB)\n",
            "  Installing build dependencies ... \u001b[?25l\u001b[?25hdone\n",
            "  Getting requirements to build wheel ... \u001b[?25l\u001b[?25hdone\n",
            "  Preparing metadata (pyproject.toml) ... \u001b[?25l\u001b[?25hdone\n",
            "Requirement already satisfied: gitpython<4.0.0,>=3.1.43 in /usr/local/lib/python3.11/dist-packages (from truefoundry<0.6.0,>=0.5.9) (3.1.44)\n",
            "Requirement already satisfied: importlib-metadata<9.0.0,>=4.11.3 in /usr/local/lib/python3.11/dist-packages (from truefoundry<0.6.0,>=0.5.9) (8.6.1)\n",
            "Requirement already satisfied: importlib-resources<7.0.0,>=5.2.0 in /usr/local/lib/python3.11/dist-packages (from truefoundry<0.6.0,>=0.5.9) (6.5.2)\n",
            "Collecting mako<2.0.0,>=1.1.6 (from truefoundry<0.6.0,>=0.5.9)\n",
            "  Downloading Mako-1.3.9-py3-none-any.whl.metadata (2.9 kB)\n",
            "Requirement already satisfied: numpy<3.0.0,>=1.23.0 in /usr/local/lib/python3.11/dist-packages (from truefoundry<0.6.0,>=0.5.9) (1.26.4)\n",
            "Requirement already satisfied: openai<2.0.0,>=1.16.2 in /usr/local/lib/python3.11/dist-packages (from truefoundry<0.6.0,>=0.5.9) (1.61.1)\n",
            "Requirement already satisfied: packaging<25.0,>=20.0 in /usr/local/lib/python3.11/dist-packages (from truefoundry<0.6.0,>=0.5.9) (24.2)\n",
            "Requirement already satisfied: pydantic<3.0.0,>=1.8.2 in /usr/local/lib/python3.11/dist-packages (from truefoundry<0.6.0,>=0.5.9) (2.10.6)\n",
            "Requirement already satisfied: pygments<3.0.0,>=2.12.0 in /usr/local/lib/python3.11/dist-packages (from truefoundry<0.6.0,>=0.5.9) (2.18.0)\n",
            "Requirement already satisfied: pyjwt<3.0.0,>=2.0.0 in /usr/local/lib/python3.11/dist-packages (from truefoundry<0.6.0,>=0.5.9) (2.10.1)\n",
            "Requirement already satisfied: python-dateutil<3.0.0,>=2.8.2 in /usr/local/lib/python3.11/dist-packages (from truefoundry<0.6.0,>=0.5.9) (2.8.2)\n",
            "Collecting python-dotenv<2.0.0,>=1.0.1 (from truefoundry<0.6.0,>=0.5.9)\n",
            "  Downloading python_dotenv-1.0.1-py3-none-any.whl.metadata (23 kB)\n",
            "Collecting python-socketio<6.0.0,>=5.5.2 (from python-socketio[client]<6.0.0,>=5.5.2->truefoundry<0.6.0,>=0.5.9)\n",
            "  Downloading python_socketio-5.12.1-py3-none-any.whl.metadata (3.2 kB)\n",
            "Requirement already satisfied: pyyaml<7.0.0,>=6.0.0 in /usr/local/lib/python3.11/dist-packages (from truefoundry<0.6.0,>=0.5.9) (6.0.2)\n",
            "Collecting questionary<2.0.0,>=1.10.0 (from truefoundry<0.6.0,>=0.5.9)\n",
            "  Downloading questionary-1.10.0-py3-none-any.whl.metadata (5.7 kB)\n",
            "Requirement already satisfied: requests<3.0.0,>=2.18.0 in /usr/local/lib/python3.11/dist-packages (from truefoundry<0.6.0,>=0.5.9) (2.32.3)\n",
            "Collecting requirements-parser<0.12.0,>=0.11.0 (from truefoundry<0.6.0,>=0.5.9)\n",
            "  Downloading requirements_parser-0.11.0-py3-none-any.whl.metadata (4.7 kB)\n",
            "Collecting rich-click<2.0.0,>=1.2.1 (from truefoundry<0.6.0,>=0.5.9)\n",
            "  Downloading rich_click-1.8.6-py3-none-any.whl.metadata (7.9 kB)\n",
            "Requirement already satisfied: rich<14.0.0,>=13.7.1 in /usr/local/lib/python3.11/dist-packages (from truefoundry<0.6.0,>=0.5.9) (13.9.4)\n",
            "Requirement already satisfied: tqdm<5.0.0,>=4.0.0 in /usr/local/lib/python3.11/dist-packages (from truefoundry<0.6.0,>=0.5.9) (4.67.1)\n",
            "Requirement already satisfied: typing-extensions>=4.0 in /usr/local/lib/python3.11/dist-packages (from truefoundry<0.6.0,>=0.5.9) (4.12.2)\n",
            "Requirement already satisfied: urllib3<3,>=1.26.18 in /usr/local/lib/python3.11/dist-packages (from truefoundry<0.6.0,>=0.5.9) (2.3.0)\n",
            "Collecting yq<4.0.0,>=3.1.0 (from truefoundry<0.6.0,>=0.5.9)\n",
            "  Downloading yq-3.4.3-py3-none-any.whl.metadata (9.0 kB)\n",
            "Requirement already satisfied: gitdb<5,>=4.0.1 in /usr/local/lib/python3.11/dist-packages (from gitpython<4.0.0,>=3.1.43->truefoundry<0.6.0,>=0.5.9) (4.0.12)\n",
            "Requirement already satisfied: zipp>=3.20 in /usr/local/lib/python3.11/dist-packages (from importlib-metadata<9.0.0,>=4.11.3->truefoundry<0.6.0,>=0.5.9) (3.21.0)\n",
            "Requirement already satisfied: MarkupSafe>=0.9.2 in /usr/local/lib/python3.11/dist-packages (from mako<2.0.0,>=1.1.6->truefoundry<0.6.0,>=0.5.9) (3.0.2)\n",
            "Requirement already satisfied: anyio<5,>=3.5.0 in /usr/local/lib/python3.11/dist-packages (from openai<2.0.0,>=1.16.2->truefoundry<0.6.0,>=0.5.9) (3.7.1)\n",
            "Requirement already satisfied: distro<2,>=1.7.0 in /usr/local/lib/python3.11/dist-packages (from openai<2.0.0,>=1.16.2->truefoundry<0.6.0,>=0.5.9) (1.9.0)\n",
            "Requirement already satisfied: httpx<1,>=0.23.0 in /usr/local/lib/python3.11/dist-packages (from openai<2.0.0,>=1.16.2->truefoundry<0.6.0,>=0.5.9) (0.28.1)\n",
            "Requirement already satisfied: jiter<1,>=0.4.0 in /usr/local/lib/python3.11/dist-packages (from openai<2.0.0,>=1.16.2->truefoundry<0.6.0,>=0.5.9) (0.8.2)\n",
            "Requirement already satisfied: sniffio in /usr/local/lib/python3.11/dist-packages (from openai<2.0.0,>=1.16.2->truefoundry<0.6.0,>=0.5.9) (1.3.1)\n",
            "Requirement already satisfied: annotated-types>=0.6.0 in /usr/local/lib/python3.11/dist-packages (from pydantic<3.0.0,>=1.8.2->truefoundry<0.6.0,>=0.5.9) (0.7.0)\n",
            "Requirement already satisfied: pydantic-core==2.27.2 in /usr/local/lib/python3.11/dist-packages (from pydantic<3.0.0,>=1.8.2->truefoundry<0.6.0,>=0.5.9) (2.27.2)\n",
            "Requirement already satisfied: six>=1.5 in /usr/local/lib/python3.11/dist-packages (from python-dateutil<3.0.0,>=2.8.2->truefoundry<0.6.0,>=0.5.9) (1.17.0)\n",
            "Collecting bidict>=0.21.0 (from python-socketio<6.0.0,>=5.5.2->python-socketio[client]<6.0.0,>=5.5.2->truefoundry<0.6.0,>=0.5.9)\n",
            "  Downloading bidict-0.23.1-py3-none-any.whl.metadata (8.7 kB)\n",
            "Collecting python-engineio>=4.11.0 (from python-socketio<6.0.0,>=5.5.2->python-socketio[client]<6.0.0,>=5.5.2->truefoundry<0.6.0,>=0.5.9)\n",
            "  Downloading python_engineio-4.11.2-py3-none-any.whl.metadata (2.2 kB)\n",
            "Requirement already satisfied: websocket-client>=0.54.0 in /usr/local/lib/python3.11/dist-packages (from python-socketio[client]<6.0.0,>=5.5.2->truefoundry<0.6.0,>=0.5.9) (1.8.0)\n",
            "Requirement already satisfied: prompt_toolkit<4.0,>=2.0 in /usr/local/lib/python3.11/dist-packages (from questionary<2.0.0,>=1.10.0->truefoundry<0.6.0,>=0.5.9) (3.0.50)\n",
            "Requirement already satisfied: charset-normalizer<4,>=2 in /usr/local/lib/python3.11/dist-packages (from requests<3.0.0,>=2.18.0->truefoundry<0.6.0,>=0.5.9) (3.4.1)\n",
            "Requirement already satisfied: idna<4,>=2.5 in /usr/local/lib/python3.11/dist-packages (from requests<3.0.0,>=2.18.0->truefoundry<0.6.0,>=0.5.9) (3.10)\n",
            "Requirement already satisfied: certifi>=2017.4.17 in /usr/local/lib/python3.11/dist-packages (from requests<3.0.0,>=2.18.0->truefoundry<0.6.0,>=0.5.9) (2025.1.31)\n",
            "Requirement already satisfied: types-setuptools>=69.1.0 in /usr/local/lib/python3.11/dist-packages (from requirements-parser<0.12.0,>=0.11.0->truefoundry<0.6.0,>=0.5.9) (75.8.0.20250225)\n",
            "Requirement already satisfied: markdown-it-py>=2.2.0 in /usr/local/lib/python3.11/dist-packages (from rich<14.0.0,>=13.7.1->truefoundry<0.6.0,>=0.5.9) (3.0.0)\n",
            "Collecting xmltodict>=0.11.0 (from yq<4.0.0,>=3.1.0->truefoundry<0.6.0,>=0.5.9)\n",
            "  Downloading xmltodict-0.14.2-py2.py3-none-any.whl.metadata (8.0 kB)\n",
            "Collecting tomlkit>=0.11.6 (from yq<4.0.0,>=3.1.0->truefoundry<0.6.0,>=0.5.9)\n",
            "  Downloading tomlkit-0.13.2-py3-none-any.whl.metadata (2.7 kB)\n",
            "Collecting argcomplete>=1.8.1 (from yq<4.0.0,>=3.1.0->truefoundry<0.6.0,>=0.5.9)\n",
            "  Downloading argcomplete-3.5.3-py3-none-any.whl.metadata (16 kB)\n",
            "Requirement already satisfied: smmap<6,>=3.0.1 in /usr/local/lib/python3.11/dist-packages (from gitdb<5,>=4.0.1->gitpython<4.0.0,>=3.1.43->truefoundry<0.6.0,>=0.5.9) (5.0.2)\n",
            "Requirement already satisfied: httpcore==1.* in /usr/local/lib/python3.11/dist-packages (from httpx<1,>=0.23.0->openai<2.0.0,>=1.16.2->truefoundry<0.6.0,>=0.5.9) (1.0.7)\n",
            "Requirement already satisfied: h11<0.15,>=0.13 in /usr/local/lib/python3.11/dist-packages (from httpcore==1.*->httpx<1,>=0.23.0->openai<2.0.0,>=1.16.2->truefoundry<0.6.0,>=0.5.9) (0.14.0)\n",
            "Requirement already satisfied: mdurl~=0.1 in /usr/local/lib/python3.11/dist-packages (from markdown-it-py>=2.2.0->rich<14.0.0,>=13.7.1->truefoundry<0.6.0,>=0.5.9) (0.1.2)\n",
            "Requirement already satisfied: wcwidth in /usr/local/lib/python3.11/dist-packages (from prompt_toolkit<4.0,>=2.0->questionary<2.0.0,>=1.10.0->truefoundry<0.6.0,>=0.5.9) (0.2.13)\n",
            "Collecting simple-websocket>=0.10.0 (from python-engineio>=4.11.0->python-socketio<6.0.0,>=5.5.2->python-socketio[client]<6.0.0,>=5.5.2->truefoundry<0.6.0,>=0.5.9)\n",
            "  Downloading simple_websocket-1.1.0-py3-none-any.whl.metadata (1.5 kB)\n",
            "Collecting wsproto (from simple-websocket>=0.10.0->python-engineio>=4.11.0->python-socketio<6.0.0,>=5.5.2->python-socketio[client]<6.0.0,>=5.5.2->truefoundry<0.6.0,>=0.5.9)\n",
            "  Downloading wsproto-1.2.0-py3-none-any.whl.metadata (5.6 kB)\n",
            "Downloading truefoundry-0.5.10-py3-none-any.whl (555 kB)\n",
            "\u001b[2K   \u001b[90m━━━━━━━━━━━━━━━━━━━━━━━━━━━━━━━━━━━━━━━━\u001b[0m \u001b[32m555.5/555.5 kB\u001b[0m \u001b[31m8.9 MB/s\u001b[0m eta \u001b[36m0:00:00\u001b[0m\n",
            "\u001b[?25hDownloading aenum-3.1.15-py3-none-any.whl (137 kB)\n",
            "\u001b[2K   \u001b[90m━━━━━━━━━━━━━━━━━━━━━━━━━━━━━━━━━━━━━━━━\u001b[0m \u001b[32m137.6/137.6 kB\u001b[0m \u001b[31m13.7 MB/s\u001b[0m eta \u001b[36m0:00:00\u001b[0m\n",
            "\u001b[?25hDownloading coolname-1.1.0-py2.py3-none-any.whl (35 kB)\n",
            "Downloading docker-7.1.0-py3-none-any.whl (147 kB)\n",
            "\u001b[2K   \u001b[90m━━━━━━━━━━━━━━━━━━━━━━━━━━━━━━━━━━━━━━━━\u001b[0m \u001b[32m147.8/147.8 kB\u001b[0m \u001b[31m14.1 MB/s\u001b[0m eta \u001b[36m0:00:00\u001b[0m\n",
            "\u001b[?25hDownloading Mako-1.3.9-py3-none-any.whl (78 kB)\n",
            "\u001b[2K   \u001b[90m━━━━━━━━━━━━━━━━━━━━━━━━━━━━━━━━━━━━━━━━\u001b[0m \u001b[32m78.5/78.5 kB\u001b[0m \u001b[31m7.5 MB/s\u001b[0m eta \u001b[36m0:00:00\u001b[0m\n",
            "\u001b[?25hDownloading python_dotenv-1.0.1-py3-none-any.whl (19 kB)\n",
            "Downloading python_socketio-5.12.1-py3-none-any.whl (76 kB)\n",
            "\u001b[2K   \u001b[90m━━━━━━━━━━━━━━━━━━━━━━━━━━━━━━━━━━━━━━━━\u001b[0m \u001b[32m76.9/76.9 kB\u001b[0m \u001b[31m7.5 MB/s\u001b[0m eta \u001b[36m0:00:00\u001b[0m\n",
            "\u001b[?25hDownloading questionary-1.10.0-py3-none-any.whl (31 kB)\n",
            "Downloading requirements_parser-0.11.0-py3-none-any.whl (14 kB)\n",
            "Downloading rich_click-1.8.6-py3-none-any.whl (35 kB)\n",
            "Downloading yq-3.4.3-py3-none-any.whl (18 kB)\n",
            "Downloading argcomplete-3.5.3-py3-none-any.whl (43 kB)\n",
            "\u001b[2K   \u001b[90m━━━━━━━━━━━━━━━━━━━━━━━━━━━━━━━━━━━━━━━━\u001b[0m \u001b[32m43.6/43.6 kB\u001b[0m \u001b[31m3.2 MB/s\u001b[0m eta \u001b[36m0:00:00\u001b[0m\n",
            "\u001b[?25hDownloading bidict-0.23.1-py3-none-any.whl (32 kB)\n",
            "Downloading python_engineio-4.11.2-py3-none-any.whl (59 kB)\n",
            "\u001b[2K   \u001b[90m━━━━━━━━━━━━━━━━━━━━━━━━━━━━━━━━━━━━━━━━\u001b[0m \u001b[32m59.2/59.2 kB\u001b[0m \u001b[31m5.8 MB/s\u001b[0m eta \u001b[36m0:00:00\u001b[0m\n",
            "\u001b[?25hDownloading tomlkit-0.13.2-py3-none-any.whl (37 kB)\n",
            "Downloading xmltodict-0.14.2-py2.py3-none-any.whl (10.0 kB)\n",
            "Downloading simple_websocket-1.1.0-py3-none-any.whl (13 kB)\n",
            "Downloading wsproto-1.2.0-py3-none-any.whl (24 kB)\n",
            "Building wheels for collected packages: gitignorefile\n",
            "  Building wheel for gitignorefile (pyproject.toml) ... \u001b[?25l\u001b[?25hdone\n",
            "  Created wheel for gitignorefile: filename=gitignorefile-1.1.2-py3-none-any.whl size=6728 sha256=1934f01b1bd6af32f0988c81ce47d18e89b09a0e17822573dc791270c2631ba0\n",
            "  Stored in directory: /root/.cache/pip/wheels/fb/29/7d/09b9e0250f6c470f6a06c2ade25410a9c65d13f58127654b6f\n",
            "Successfully built gitignorefile\n",
            "Installing collected packages: gitignorefile, coolname, aenum, xmltodict, wsproto, tomlkit, requirements-parser, python-dotenv, mako, bidict, argcomplete, yq, simple-websocket, questionary, docker, rich-click, python-engineio, python-socketio, truefoundry\n",
            "  Attempting uninstall: requirements-parser\n",
            "    Found existing installation: requirements-parser 0.9.0\n",
            "    Uninstalling requirements-parser-0.9.0:\n",
            "      Successfully uninstalled requirements-parser-0.9.0\n",
            "Successfully installed aenum-3.1.15 argcomplete-3.5.3 bidict-0.23.1 coolname-1.1.0 docker-7.1.0 gitignorefile-1.1.2 mako-1.3.9 python-dotenv-1.0.1 python-engineio-4.11.2 python-socketio-5.12.1 questionary-1.10.0 requirements-parser-0.11.0 rich-click-1.8.6 simple-websocket-1.1.0 tomlkit-0.13.2 truefoundry-0.5.10 wsproto-1.2.0 xmltodict-0.14.2 yq-3.4.3\n"
          ]
        }
      ],
      "source": [
        "%pip install -U \"truefoundry>=0.5.9,<0.6.0\""
      ]
    },
    {
      "cell_type": "markdown",
      "metadata": {
        "id": "faBg32Rgohp_"
      },
      "source": [
        "**Login into TrueFoundry**\n",
        "\n",
        "In order to login run the cell below. Host can be found from the TrueFoundry UI as shown below like https://app.truefoundry.com\n",
        "\n",
        "![image.png](https://github.com/truefoundry/getting-started-examples/blob/main/common/images/host.png?raw=1)"
      ]
    },
    {
      "cell_type": "code",
      "execution_count": 3,
      "metadata": {
        "id": "IkXbOJVv8eNE",
        "outputId": "7ec6627d-348c-4f86-e2ed-fdfaea8f7a3e",
        "colab": {
          "base_uri": "https://localhost:8080/"
        }
      },
      "outputs": [
        {
          "output_type": "stream",
          "name": "stdout",
          "text": [
            "                                                                                                    \n",
            " \u001b[33mUsage:\u001b[0m \u001b[1mtfy login\u001b[0m [\u001b[1;36mOPTIONS\u001b[0m]                                                                         \n",
            "                                                                                                    \n",
            "\u001b[2m \u001b[0m\u001b[2mTry\u001b[0m\u001b[2m \u001b[0m\u001b[2;34m'tfy login -h'\u001b[0m\u001b[2m \u001b[0m\u001b[2mfor help\u001b[0m\u001b[2m                                                                       \u001b[0m\u001b[2m \u001b[0m\n",
            "\u001b[31m╭─\u001b[0m\u001b[31m Error \u001b[0m\u001b[31m─────────────────────────────────────────────────────────────────────────────────────────\u001b[0m\u001b[31m─╮\u001b[0m\n",
            "\u001b[31m│\u001b[0m Got unexpected extra argument (login)                                                            \u001b[31m│\u001b[0m\n",
            "\u001b[31m╰──────────────────────────────────────────────────────────────────────────────────────────────────╯\u001b[0m\n",
            "                                                                                                    \n"
          ]
        }
      ],
      "source": [
        "!tfy login --host tfy login --host https://internal.devtest.truefoundry.tech/ --api-key eyJhbGciOiJSUzI1NiIsInR5cCI6IkpXVCIsImtpZCI6ImxzV0lDNWtkU1V1bXg1ckg5NkR6bFdYUGxJTSJ9.eyJhdWQiOiI4OTUyNTNhZi1lYzlkLTRiZTYtODNkMS02ZjI0OGU2NDRlNzkiLCJleHAiOjM3MDA1Mzc5MzYsImlhdCI6MTc0MDk4NTkzNiwiaXNzIjoidHJ1ZWZvdW5kcnkuY29tIiwic3ViIjoiY203c3EycHNrMDAxNTAxcmZmZndmZmpnbCIsImp0aSI6Ijk3MGQyNjMyLTNmOTctNDE0Zi04Nzk1LTAwMGQ5ZWJkMjBkOSIsInN1YmplY3RTbHVnIjoidGYtcHJhY3RpY2UiLCJ1c2VybmFtZSI6InRmLXByYWN0aWNlIiwidXNlclR5cGUiOiJzZXJ2aWNlYWNjb3VudCIsInN1YmplY3RUeXBlIjoic2VydmljZWFjY291bnQiLCJ0ZW5hbnROYW1lIjoidHJ1ZWZvdW5kcnkiLCJyb2xlcyI6WyJ0ZW5hbnQtbWVtYmVyIl0sImFwcGxpY2F0aW9uSWQiOiI4OTUyNTNhZi1lYzlkLTRiZTYtODNkMS02ZjI0OGU2NDRlNzkifQ.gSp7zi67wqqFNEU4RsQMfhOEl8qeDWQBWNnMzlxHeR1tjdhL4BBhLNINtUDjC27UvohZuFSaOUqvr8QdktYJ0iAKCM38TQEfPo_ZDYMR53uTRISzxGksMiH2Hb_tCxoH8kV7EXNu_WvT3ZMBKNIraOEwjQuFVGe5dfIzEonGdF3ZUcyGrJq4G5MPllyegDJ4dYfJcbXQtiNkB4RKW2eScXq7zlR2fcfKP6JRedta-bXSAkVkfeRv2vHXjwiwez0lR9-uxz6bMMPYMQ1OWsk9h5bykXJxHAS9j2inkh6goX79-Kil0Z1jhOyDxtDFXMZ4poBKFOnDLoehLkIF55JDfQ"
      ]
    },
    {
      "cell_type": "markdown",
      "metadata": {
        "id": "wov-JTue8gEF"
      },
      "source": [
        "**Select the `Workspace` in which you want to deploy your application.**\n",
        "\n",
        "Once you run the cell below you will get a prompt to enter your Workspace FQN. Follow the docs to\n",
        "\n",
        "**Create a Workspace**: https://docs.truefoundry.com/docs/key-concepts#creating-a-workspace\n",
        "\n",
        "**Get Existing Workspace FQN**: https://docs.truefoundry.com/docs/key-concepts#getting-workspace-fqn"
      ]
    },
    {
      "cell_type": "code",
      "execution_count": 4,
      "metadata": {
        "id": "l2GRVoJ-ohqA"
      },
      "outputs": [],
      "source": [
        "import click"
      ]
    },
    {
      "cell_type": "code",
      "execution_count": 5,
      "metadata": {
        "id": "XP_ib5m48k7a",
        "outputId": "ba748f73-c00e-490b-896d-6c943c02ac1b",
        "colab": {
          "base_uri": "https://localhost:8080/"
        }
      },
      "outputs": [
        {
          "output_type": "stream",
          "name": "stdout",
          "text": [
            "Enter the Workspace FQN: tfy-usea1-devtest:jeet-ws\n",
            "\n",
            "Workspace FQN set to 'tfy-usea1-devtest:jeet-ws'\n"
          ]
        }
      ],
      "source": [
        "WORKSPACE_FQN = click.prompt(\n",
        "    \"Enter the Workspace FQN\",\n",
        "    type=str,\n",
        ")\n",
        "print(f\"\\nWorkspace FQN set to {WORKSPACE_FQN!r}\")"
      ]
    },
    {
      "cell_type": "markdown",
      "metadata": {
        "id": "n41XXaJD25fM",
        "jp-MarkdownHeadingCollapsed": true
      },
      "source": [
        "# Step 1: Fetch model\n",
        "\n",
        "## Model details\n",
        "\n",
        "For this guide, we have already trained a model. The given model has been trained on _iris dataset_ and uploaded to [GitHub](https://github.com/truefoundry/getting-started-examples/raw/b0ec188da047b75b334ea544560b583ab3b97510/deploy-ml-model/iris_classifier.joblib).\n",
        "\n",
        "> **Attributes** :\n",
        "> sepal length in cm, sepal width in cm, petal length in cm, petal width in cm\n",
        ">\n",
        "> **Predicted Attribute** :  \n",
        "> class of iris plant (one of the following - Iris Setosa, Iris Versicolour, Iris Virginica)\n",
        "\n",
        "## Download instructions\n",
        "\n",
        "Download the model from the following [link](https://github.com/truefoundry/getting-started-examples/raw/b0ec188da047b75b334ea544560b583ab3b97510/deploy-ml-model/iris_classifier.joblib).  \n",
        "Then move the model in your dev directory we created.\n",
        "\n",
        "Afterwards, your directory should look like this :\n",
        "\n",
        "```\n",
        ".\n",
        "└── iris_classifier.joblib\n",
        "```\n"
      ]
    },
    {
      "cell_type": "markdown",
      "metadata": {
        "id": "wmy0aNHS3nnQ",
        "jp-MarkdownHeadingCollapsed": true
      },
      "source": [
        "# Step 2: Implement the Inference Service code.\n",
        "\n",
        "The first step is to create a web API and deploy the model.  \n",
        "For this we are going to use [FastAPI](https://fastapi.tiangolo.com/) for this. FastAPI is a modern, intuitive web framework for building web APIs in python.\n",
        "\n",
        "Create the `app.py` and `requirements.txt` files in the same directory where the model is stored.\n",
        "\n",
        "```\n",
        ".\n",
        "├── iris_classifier.joblib\n",
        "├── app.py\n",
        "└── requirements.txt\n",
        "```\n"
      ]
    },
    {
      "cell_type": "markdown",
      "metadata": {
        "id": "2BrljaTI8ugP"
      },
      "source": [
        "### **`app.py`**\n"
      ]
    },
    {
      "cell_type": "code",
      "execution_count": 6,
      "metadata": {
        "colab": {
          "base_uri": "https://localhost:8080/"
        },
        "id": "iUqqXRVeyAdt",
        "outputId": "929b267c-059b-42f3-84fd-b78e3054bbd3"
      },
      "outputs": [
        {
          "output_type": "stream",
          "name": "stdout",
          "text": [
            "Writing app.py\n"
          ]
        }
      ],
      "source": [
        "%%writefile app.py\n",
        "import os\n",
        "import joblib\n",
        "import pandas as pd\n",
        "from fastapi import FastAPI\n",
        "\n",
        "model = joblib.load(\"iris_classifier.joblib\")\n",
        "app = FastAPI(docs_url=\"/\", root_path=os.getenv(\"TFY_SERVICE_ROOT_PATH\"))\n",
        "\n",
        "@app.post(\"/predict\")\n",
        "def predict(\n",
        "    sepal_length: float, sepal_width: float, petal_length: float, petal_width: float\n",
        "):\n",
        "    data = dict(\n",
        "        sepal_length=sepal_length,\n",
        "        sepal_width=sepal_width,\n",
        "        petal_length=petal_length,\n",
        "        petal_width=petal_width,\n",
        "    )\n",
        "    prediction = int(model.predict(pd.DataFrame([data]))[0])\n",
        "    return {\"prediction\": prediction}"
      ]
    },
    {
      "cell_type": "markdown",
      "metadata": {
        "id": "6zYON72f3ydW"
      },
      "source": [
        "Click on this [link](https://docs.truefoundry.com/recipes/create-a-fastapi-service-code-to-deploy-model) to understand the **`app.py`**:\n"
      ]
    },
    {
      "cell_type": "code",
      "execution_count": 7,
      "metadata": {
        "id": "Zarc2sZZohqD",
        "outputId": "d7abb56a-59b6-478d-cb50-2c1f27247597",
        "colab": {
          "base_uri": "https://localhost:8080/"
        }
      },
      "outputs": [
        {
          "output_type": "stream",
          "name": "stdout",
          "text": [
            "Writing requirements.txt\n"
          ]
        }
      ],
      "source": [
        "%%writefile requirements.txt\n",
        "fastapi==0.114.0\n",
        "uvicorn==0.30.6\n",
        "scikit-learn==1.5.0\n",
        "joblib==1.3.2\n",
        "pandas==2.2.2\n",
        "numpy==1.26.4"
      ]
    },
    {
      "cell_type": "markdown",
      "metadata": {
        "id": "R2Q926YI4Yan",
        "jp-MarkdownHeadingCollapsed": true
      },
      "source": [
        "# Step 3: Deploying the Inference App\n",
        "\n",
        "You can deploy services on TrueFoundry programmatically via our **Python SDK**.\n",
        "\n",
        "Create a `deploy.py`, after which our file structure will look like this:\n",
        "\n",
        "**File Structure**\n",
        "\n",
        "```Text Text\n",
        ".\n",
        "├── iris_classifier.joblib\n",
        "├── app.py\n",
        "├── deploy.py\n",
        "└── requirements.txt\n",
        "```\n",
        "\n",
        "### **`deploy.py`**\n"
      ]
    },
    {
      "cell_type": "code",
      "execution_count": 8,
      "metadata": {
        "colab": {
          "base_uri": "https://localhost:8080/"
        },
        "id": "7pqgBDBmyAX1",
        "outputId": "58ec14ee-f787-4e60-80e1-f082057f6390"
      },
      "outputs": [
        {
          "output_type": "stream",
          "name": "stdout",
          "text": [
            "Writing deploy.py\n"
          ]
        }
      ],
      "source": [
        "%%writefile deploy.py\n",
        "import argparse\n",
        "import logging\n",
        "from truefoundry.deploy import Build, PythonBuild, Service, Resources, Port, LocalSource\n",
        "\n",
        "logging.basicConfig(\n",
        "    level=logging.INFO, format=\"%(asctime)s [%(name)s] %(levelname)-8s %(message)s\"\n",
        ")\n",
        "\n",
        "\n",
        "def str_or_none(value):\n",
        "    return None if not value or value == \"None\" else value\n",
        "\n",
        "parser = argparse.ArgumentParser()\n",
        "parser.add_argument(\n",
        "    \"--name\",\n",
        "    required=False,\n",
        "    default=\"iris-classifier-svc\",\n",
        "    type=str,\n",
        "    help=\"Name of the application.\"\n",
        ")\n",
        "parser.add_argument(\n",
        "    \"--workspace_fqn\",\n",
        "    \"--workspace-fqn\",\n",
        "    required=True,\n",
        "    type=str,\n",
        "    help=\"FQN of the workspace where application will be deployed.\",\n",
        ")\n",
        "parser.add_argument(\n",
        "    \"--host\",\n",
        "    required=True,\n",
        "    type=str,\n",
        "    help=\"Host where the application will be available for access. Ex:- my-app.my-org.com\",\n",
        ")\n",
        "parser.add_argument(\n",
        "    \"--path\",\n",
        "    required=False,\n",
        "    default=None,\n",
        "    type=str_or_none,\n",
        "    help=\"Path in addition to the host where the application will be available for access. Eg: my-org.com/my-path\",\n",
        ")\n",
        "args = parser.parse_args()\n",
        "\n",
        "service = Service(\n",
        "    name=args.name,\n",
        "    # Define how to build your code into a Docker image\n",
        "    image=Build(\n",
        "        # `LocalSource` helps specify the details of your local source code.\n",
        "        build_source=LocalSource(local_build=False),\n",
        "        # `PythonBuild` helps specify the details of your Python Code.\n",
        "      \t# These details will be used to templatize a DockerFile to build your Docker Image\n",
        "        build_spec=PythonBuild(\n",
        "            python_version=\"3.11\",\n",
        "            command=\"uvicorn app:app --port 8000 --host 0.0.0.0\",\n",
        "            requirements_path=\"requirements.txt\",\n",
        "        )\n",
        "    ),\n",
        "    # Set the ports your server will listen on\n",
        "    ports=[\n",
        "        # Providing a host and path value depends on the base domain urls configured in the cluster settings.\n",
        "        # You can learn how to find the base domain urls available to you https://docs.truefoundry.com/docs/define-ports-and-domains#identifying-available-domains\n",
        "        Port(port=8000, host=args.host, path=args.path)\n",
        "    ],\n",
        "    # Define the resource constraints.\n",
        "    #\n",
        "    # Requests are the minimum amount of resources that a container needs to run.\n",
        "    # Limits are the maximum amount of resources that a container can use.\n",
        "    resources=Resources(\n",
        "        cpu_request=0.1,\n",
        "        cpu_limit=0.1,\n",
        "        memory_request=500,\n",
        "        memory_limit=500,\n",
        "    ),\n",
        "    # Define environment variables that your Service will have access to\n",
        "    env={\"UVICORN_WEB_CONCURRENCY\": \"1\", \"ENVIRONMENT\": \"dev\"},\n",
        "    labels={\"tfy_openapi_path\": \"openapi.json\"},\n",
        ")\n",
        "service.deploy(workspace_fqn=args.workspace_fqn, wait=False)"
      ]
    },
    {
      "cell_type": "markdown",
      "metadata": {
        "id": "qEzSfGepohqF"
      },
      "source": [
        "We will need a endpoint to access the deployed service. This host should follow the base domain url configured in the cluster.\n",
        "\n",
        "Please refer to following docs to get the base domain url to make your endpoint:\n",
        "\n",
        "https://docs.truefoundry.com/docs/define-ports-and-domains#identifying-available-domains"
      ]
    },
    {
      "cell_type": "code",
      "execution_count": null,
      "metadata": {
        "id": "xGkNpYCpohqF"
      },
      "outputs": [],
      "source": [
        "SERVICE_HOST = click.prompt(\n",
        "    \"Enter the host for the Service endpoint (e.g. my-service.org-domain.com OR org-domain.com)\",\n",
        "    type=str,\n",
        ")\n",
        "SERVICE_PATH = click.prompt(\n",
        "    \"Optionally, enter the path for Service endpoint (e.g. /my-service/). You can leave this blank if your domain supports subdomains: \",\n",
        "    type=str,\n",
        "    default='',\n",
        ")\n",
        "SERVICE_PATH = f\"/{SERVICE_PATH.strip('/')}/\" if SERVICE_PATH else None\n",
        "\n",
        "print(f\"\\nService Host set to {SERVICE_HOST!r}\")\n",
        "print(f\"\\nService Path set to {SERVICE_PATH!r}\")"
      ]
    },
    {
      "cell_type": "markdown",
      "metadata": {
        "id": "6ex8BEPH5OY5"
      },
      "source": [
        "Now to deploy our FastAPI Service run the command below\n"
      ]
    },
    {
      "cell_type": "code",
      "execution_count": null,
      "metadata": {
        "id": "jMYgmbFk5Jd0"
      },
      "outputs": [],
      "source": [
        "!python deploy.py --workspace_fqn $WORKSPACE_FQN --host $SERVICE_HOST --path $SERVICE_PATH"
      ]
    },
    {
      "cell_type": "markdown",
      "metadata": {
        "id": "_XdgsoM1ohqG"
      },
      "source": [
        "Once the build is complete, you will see a link to the dashboard after a message like <br>\n",
        "`You can find the application on the dashboard:-`.\n",
        "\n",
        "Click on the link to access the deployment dashboard.\n"
      ]
    }
  ],
  "metadata": {
    "colab": {
      "provenance": []
    },
    "kernelspec": {
      "display_name": "jupyter-base",
      "language": "python",
      "name": "jupyter-base"
    },
    "language_info": {
      "codemirror_mode": {
        "name": "ipython",
        "version": 3
      },
      "file_extension": ".py",
      "mimetype": "text/x-python",
      "name": "python",
      "nbconvert_exporter": "python",
      "pygments_lexer": "ipython3",
      "version": "3.11.9"
    }
  },
  "nbformat": 4,
  "nbformat_minor": 0
}